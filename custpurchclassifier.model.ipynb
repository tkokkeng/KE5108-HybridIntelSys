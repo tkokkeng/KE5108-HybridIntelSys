{
 "cells": [
  {
   "cell_type": "markdown",
   "metadata": {
    "collapsed": true
   },
   "source": [
    "# KE 5018 - Workshop 2B Sentosa Bank Customer Propensity Modelling"
   ]
  },
  {
   "cell_type": "markdown",
   "metadata": {},
   "source": [
    "## Import libraries"
   ]
  },
  {
   "cell_type": "code",
   "execution_count": 117,
   "metadata": {},
   "outputs": [],
   "source": [
    "%matplotlib inline\n",
    "\n",
    "import matplotlib.pyplot as plt\n",
    "import pandas as pd\n",
    "import numpy as np\n",
    "import os\n",
    "import myUtilities as mu\n",
    "\n",
    "from keras import models\n",
    "from keras import layers\n",
    "from sklearn.utils import shuffle\n",
    "from sklearn.model_selection import train_test_split\n",
    "from keras import regularizers\n",
    "from sklearn.metrics import confusion_matrix\n",
    "from sklearn.metrics import classification_report\n",
    "from keras.wrappers.scikit_learn import KerasClassifier\n",
    "from sklearn.model_selection import GridSearchCV\n",
    "from sklearn.preprocessing import LabelEncoder\n",
    "from sklearn.metrics import precision_recall_curve\n",
    "from sklearn.metrics import recall_score\n",
    "from sklearn.metrics import precision_score"
   ]
  },
  {
   "cell_type": "markdown",
   "metadata": {},
   "source": [
    "## Load data"
   ]
  },
  {
   "cell_type": "code",
   "execution_count": 2,
   "metadata": {},
   "outputs": [],
   "source": [
    "X = np.load(os.path.join('data', 'x-train.npy'))\n",
    "y = np.load(os.path.join('data', 'y-train.npy'))"
   ]
  },
  {
   "cell_type": "code",
   "execution_count": 3,
   "metadata": {},
   "outputs": [
    {
     "data": {
      "text/plain": [
       "array([-1.08471883, -0.8382461 , -0.03299182,  0.14378335,  0.33764937,\n        0.        ,  0.        ,  0.        ,  1.        ,  0.        ,\n        0.        ,  0.        ,  0.        ,  0.        ,  1.        ,\n        0.        ,  0.        ,  0.        ,  0.        ,  1.        ,\n        0.        ,  0.        ,  0.        ])"
      ]
     },
     "execution_count": 3,
     "metadata": {},
     "output_type": "execute_result"
    }
   ],
   "source": [
    "X[0]"
   ]
  },
  {
   "cell_type": "code",
   "execution_count": 4,
   "metadata": {},
   "outputs": [],
   "source": [
    "X.shape"
   ]
  },
  {
   "cell_type": "code",
   "execution_count": 5,
   "metadata": {},
   "outputs": [
    {
     "data": {
      "text/plain": [
       "23"
      ]
     },
     "execution_count": 5,
     "metadata": {},
     "output_type": "execute_result"
    }
   ],
   "source": [
    "NN_INPUT = X.shape[1]\n",
    "NN_INPUT"
   ]
  },
  {
   "cell_type": "code",
   "execution_count": 6,
   "metadata": {},
   "outputs": [
    {
     "data": {
      "text/plain": [
       "array(['None', 'None', 'None', 'None', 'None'], dtype=object)"
      ]
     },
     "execution_count": 6,
     "metadata": {},
     "output_type": "execute_result"
    }
   ],
   "source": [
    "y[:5]"
   ]
  },
  {
   "cell_type": "code",
   "execution_count": 7,
   "metadata": {},
   "outputs": [
    {
     "data": {
      "text/plain": [
       "(1643,)"
      ]
     },
     "execution_count": 7,
     "metadata": {},
     "output_type": "execute_result"
    }
   ],
   "source": [
    "y.shape"
   ]
  },
  {
   "cell_type": "code",
   "execution_count": 8,
   "metadata": {},
   "outputs": [],
   "source": [
    "# Shuffle the data.\n",
    "X, y = shuffle(X, y, random_state=11)"
   ]
  },
  {
   "cell_type": "code",
   "execution_count": 9,
   "metadata": {},
   "outputs": [
    {
     "data": {
      "text/html": [
       "<div>\n",
       "<style scoped>\n",
       "    .dataframe tbody tr th:only-of-type {\n",
       "        vertical-align: middle;\n",
       "    }\n",
       "\n",
       "    .dataframe tbody tr th {\n",
       "        vertical-align: top;\n",
       "    }\n",
       "\n",
       "    .dataframe thead th {\n",
       "        text-align: right;\n",
       "    }\n",
       "</style>\n",
       "<table border=\"1\" class=\"dataframe\">\n",
       "  <thead>\n",
       "    <tr style=\"text-align: right;\">\n",
       "      <th></th>\n",
       "      <th>A</th>\n",
       "      <th>B</th>\n",
       "      <th>None</th>\n",
       "    </tr>\n",
       "  </thead>\n",
       "  <tbody>\n",
       "    <tr>\n",
       "      <th>0</th>\n",
       "      <td>1</td>\n",
       "      <td>0</td>\n",
       "      <td>0</td>\n",
       "    </tr>\n",
       "    <tr>\n",
       "      <th>1</th>\n",
       "      <td>0</td>\n",
       "      <td>0</td>\n",
       "      <td>1</td>\n",
       "    </tr>\n",
       "    <tr>\n",
       "      <th>2</th>\n",
       "      <td>1</td>\n",
       "      <td>0</td>\n",
       "      <td>0</td>\n",
       "    </tr>\n",
       "    <tr>\n",
       "      <th>3</th>\n",
       "      <td>0</td>\n",
       "      <td>1</td>\n",
       "      <td>0</td>\n",
       "    </tr>\n",
       "    <tr>\n",
       "      <th>4</th>\n",
       "      <td>1</td>\n",
       "      <td>0</td>\n",
       "      <td>0</td>\n",
       "    </tr>\n",
       "  </tbody>\n",
       "</table>\n",
       "</div>"
      ],
      "text/plain": [
       "<div>\n",
       "<style scoped>\n",
       "    .dataframe tbody tr th:only-of-type {\n",
       "        vertical-align: middle;\n",
       "    }\n",
       "\n",
       "    .dataframe tbody tr th {\n",
       "        vertical-align: top;\n",
       "    }\n",
       "\n",
       "    .dataframe thead th {\n",
       "        text-align: right;\n",
       "    }\n",
       "</style>\n",
       "<table border=\"1\" class=\"dataframe\">\n",
       "  <thead>\n",
       "    <tr style=\"text-align: right;\">\n",
       "      <th></th>\n",
       "      <th>A</th>\n",
       "      <th>B</th>\n",
       "      <th>None</th>\n",
       "    </tr>\n",
       "  </thead>\n",
       "  <tbody>\n",
       "    <tr>\n",
       "      <th>0</th>\n",
       "      <td>1</td>\n",
       "      <td>0</td>\n",
       "      <td>0</td>\n",
       "    </tr>\n",
       "    <tr>\n",
       "      <th>1</th>\n",
       "      <td>0</td>\n",
       "      <td>0</td>\n",
       "      <td>1</td>\n",
       "    </tr>\n",
       "    <tr>\n",
       "      <th>2</th>\n",
       "      <td>1</td>\n",
       "      <td>0</td>\n",
       "      <td>0</td>\n",
       "    </tr>\n",
       "    <tr>\n",
       "      <th>3</th>\n",
       "      <td>0</td>\n",
       "      <td>1</td>\n",
       "      <td>0</td>\n",
       "    </tr>\n",
       "    <tr>\n",
       "      <th>4</th>\n",
       "      <td>1</td>\n",
       "      <td>0</td>\n",
       "      <td>0</td>\n",
       "    </tr>\n",
       "  </tbody>\n",
       "</table>\n",
       "</div>"
      ]
     },
     "execution_count": 9,
     "metadata": {},
     "output_type": "execute_result"
    }
   ],
   "source": [
    "y_df = pd.get_dummies(y)\n",
    "y_df.head()"
   ]
  },
  {
   "cell_type": "code",
   "execution_count": 10,
   "metadata": {},
   "outputs": [
    {
     "data": {
      "text/plain": [
       "array([[1, 0, 0],\n       [0, 0, 1],\n       [1, 0, 0],\n       ..., \n       [0, 1, 0],\n       [1, 0, 0],\n       [1, 0, 0]], dtype=uint8)"
      ]
     },
     "execution_count": 10,
     "metadata": {},
     "output_type": "execute_result"
    }
   ],
   "source": [
    "one_hot_y = y_df.values\n",
    "one_hot_y"
   ]
  },
  {
   "cell_type": "markdown",
   "metadata": {},
   "source": [
    "## Fit a base model"
   ]
  },
  {
   "cell_type": "code",
   "execution_count": 11,
   "metadata": {},
   "outputs": [],
   "source": [
    "# Train-validation split\n",
    "X_train, X_test, one_hot_y_train, one_hot_y_test, y_train, y_test = train_test_split(X, one_hot_y, y, test_size=0.33, random_state=42, stratify=y)"
   ]
  },
  {
   "cell_type": "code",
   "execution_count": 12,
   "metadata": {},
   "outputs": [],
   "source": [
    "# Model Definition\n",
    "model = models.Sequential()\n",
    "model.add(layers.Dense(32, kernel_regularizer=regularizers.l2(0.001), activation='relu', input_shape=(NN_INPUT,)))\n",
    "model.add(layers.Dropout(0.5))\n",
    "model.add(layers.Dense(16, kernel_regularizer=regularizers.l2(0.001), activation='relu'))\n",
    "model.add(layers.Dropout(0.5))\n",
    "#model.add(layers.Dense(8, kernel_regularizer=regularizers.l2(0.001), activation='relu'))\n",
    "#model.add(layers.Dropout(0.5))\n",
    "model.add(layers.Dense(3, activation='softmax'))"
   ]
  },
  {
   "cell_type": "code",
   "execution_count": 13,
   "metadata": {},
   "outputs": [],
   "source": [
    "# Compile the Model.\n",
    "model.compile(optimizer='rmsprop',\n",
    "              loss='categorical_crossentropy',\n",
    "              metrics=['accuracy'])"
   ]
  },
  {
   "cell_type": "code",
   "execution_count": 14,
   "metadata": {},
   "outputs": [],
   "source": [
    "# Training the model\n",
    "history = model.fit(X_train,\n",
    "                    one_hot_y_train,\n",
    "                    epochs=2000,\n",
    "                    batch_size=128,\n",
    "                    validation_data=(X_test, one_hot_y_test),\n",
    "                    class_weight={0:50, 1:10, 2:1},\n",
    "                    verbose=0)"
   ]
  },
  {
   "cell_type": "code",
   "execution_count": 15,
   "metadata": {},
   "outputs": [
    {
     "data": {
      "image/png": "[encoded data removed]",
      "text/plain": [
       "<matplotlib.figure.Figure at 0x7fb5d42285c0>"
      ]
     },
     "metadata": {},
     "output_type": "display_data"
    }
   ],
   "source": [
    "# Plotting the training and validation loss, accuracy\n",
    "loss = history.history['loss']\n",
    "val_loss = history.history['val_loss']\n",
    "acc = history.history['acc']\n",
    "val_acc = history.history['val_acc']\n",
    "\n",
    "epochs = range(1, len(loss) + 1)\n",
    "\n",
    "plt.figure(figsize=(20, 7))\n",
    "\n",
    "plt.subplot(121)\n",
    "plt.plot(epochs, loss, 'b', label='Training loss')\n",
    "plt.plot(epochs, val_loss, 'b', label='Validation loss', color='green')\n",
    "plt.title('Training and validation loss')\n",
    "plt.xlabel('Epochs')\n",
    "plt.ylabel('Loss')\n",
    "plt.legend()\n",
    "\n",
    "# Plotting the training and validation accuracy\n",
    "plt.subplot(122)\n",
    "plt.plot(epochs, acc, 'b', label='Training acc')\n",
    "plt.plot(epochs, val_acc, 'b', label='Validation acc', color='green')\n",
    "plt.title('Training and validation accuracy')\n",
    "plt.xlabel('Epochs')\n",
    "plt.ylabel('Accuracy')\n",
    "plt.legend()\n",
    "\n",
    "plt.show()"
   ]
  },
  {
   "cell_type": "code",
   "execution_count": 16,
   "metadata": {},
   "outputs": [
    {
     "data": {
      "text/plain": [
       "array([0, 1, 0, ..., 0, 1, 1])"
      ]
     },
     "execution_count": 16,
     "metadata": {},
     "output_type": "execute_result"
    }
   ],
   "source": [
    "num_y_pred_train = model.predict_classes(X_train)\n",
    "num_y_pred_train"
   ]
  },
  {
   "cell_type": "code",
   "execution_count": 17,
   "metadata": {},
   "outputs": [
    {
     "data": {
      "text/plain": [
       "array([2, 1, 1, 0, 0, 0, 1, 0, 0, 1, 2, 2, 0, 2, 0, 0, 2, 0, 2, 2, 1, 1, 2,\n       2, 2, 2, 2, 1, 0, 2, 0, 2, 0, 1, 1, 2, 0, 2, 0, 0, 1, 0, 2, 0, 0, 2,\n       0, 0, 2, 1, 0, 2, 1, 2, 0, 1, 0, 2, 1, 0, 1, 1, 0, 2, 2, 0, 2, 2, 1,\n       1, 1, 1, 0, 0, 1, 1, 1, 0, 0, 1, 2, 2, 0, 1, 0, 0, 1, 1, 2, 0, 0, 0,\n       1, 0, 2, 2, 2, 0, 2, 2, 1, 2, 0, 1, 1, 0, 0, 2, 2, 0, 1, 0, 2, 2, 0,\n       2, 1, 2, 1, 1, 2, 1, 1, 2, 0, 0, 2, 0, 1, 0, 2, 2, 2, 0, 2, 0, 0, 0,\n       0, 0, 0, 1, 2, 1, 2, 1, 2, 2, 1, 0, 1, 1, 2, 0, 0, 1, 1, 0, 1, 1, 0,\n       2, 0, 2, 1, 0, 1, 2, 1, 1, 2, 0, 1, 2, 2, 2, 2, 2, 1, 2, 0, 0, 2, 0,\n       0, 1, 0, 0, 0, 0, 1, 1, 0, 2, 1, 0, 1, 2, 2, 1, 0, 0, 2, 2, 2, 2, 1,\n       0, 1, 0, 2, 1, 2, 0, 1, 2, 0, 0, 1, 1, 0, 0, 2, 1, 1, 0, 2, 1, 1, 0,\n       0, 1, 0, 0, 1, 0, 1, 1, 0, 1, 0, 1, 1, 1, 0, 0, 1, 2, 1, 0, 2, 0, 0,\n       0, 2, 0, 0, 0, 0, 0, 1, 0, 1, 0, 0, 0, 1, 1, 1, 1, 0, 2, 1, 1, 0, 2,\n       2, 1, 2, 2, 2, 0, 0, 1, 0, 0, 0, 0, 2, 1, 2, 2, 1, 0, 1, 1, 2, 1, 0,\n       0, 1, 0, 2, 2, 0, 0, 0, 1, 2, 1, 0, 2, 0, 2, 1, 2, 2, 1, 1, 0, 0, 1,\n       0, 1, 1, 2, 0, 2, 1, 2, 0, 0, 1, 0, 0, 1, 2, 1, 0, 2, 0, 1, 0, 2, 0,\n       0, 0, 0, 0, 0, 0, 2, 1, 1, 2, 2, 0, 1, 0, 2, 0, 2, 0, 2, 0, 1, 1, 2,\n       0, 1, 2, 1, 1, 1, 0, 1, 0, 0, 0, 0, 1, 1, 0, 2, 1, 1, 1, 1, 0, 0, 0,\n       1, 2, 1, 1, 0, 0, 0, 0, 2, 1, 2, 2, 0, 1, 0, 1, 2, 2, 0, 0, 2, 0, 1,\n       1, 2, 2, 1, 2, 0, 0, 2, 2, 0, 1, 2, 0, 2, 1, 1, 1, 0, 0, 0, 1, 2, 2,\n       0, 0, 1, 0, 2, 0, 0, 0, 2, 0, 0, 0, 0, 0, 0, 2, 2, 0, 2, 1, 2, 0, 0,\n       1, 2, 2, 1, 0, 2, 0, 2, 2, 0, 0, 0, 1, 0, 0, 2, 2, 0, 1, 0, 2, 0, 2,\n       2, 2, 2, 2, 2, 1, 2, 0, 1, 0, 0, 0, 0, 0, 1, 1, 2, 0, 2, 2, 2, 0, 2,\n       2, 1, 2, 0, 0, 0, 1, 2, 0, 1, 2, 1, 1, 1, 2, 2, 1, 2, 0, 1, 2, 0, 0,\n       1, 1, 1, 1, 1, 1, 2, 1, 0, 0, 2, 1, 2, 1])"
      ]
     },
     "execution_count": 17,
     "metadata": {},
     "output_type": "execute_result"
    }
   ],
   "source": [
    "num_y_pred_test = model.predict_classes(X_test)\n",
    "num_y_pred_test"
   ]
  },
  {
   "cell_type": "code",
   "execution_count": 18,
   "metadata": {},
   "outputs": [
    {
     "data": {
      "text/plain": [
       "[2, 1, 1, 0, 0]"
      ]
     },
     "execution_count": 18,
     "metadata": {},
     "output_type": "execute_result"
    }
   ],
   "source": [
    "num_y_test = [np.where(r==1)[0][0] for r in one_hot_y_test]\n",
    "num_y_test[:5]"
   ]
  },
  {
   "cell_type": "code",
   "execution_count": 19,
   "metadata": {},
   "outputs": [
    {
     "data": {
      "text/plain": [
       "array([0, 1, 0, 0, 2, 1, 1, 1, 1, 2])"
      ]
     },
     "execution_count": 19,
     "metadata": {},
     "output_type": "execute_result"
    }
   ],
   "source": [
    "le = LabelEncoder()\n",
    "le.fit(y_train)\n",
    "num_y_train = le.transform(y_train)\n",
    "num_y_train[:10]"
   ]
  },
  {
   "cell_type": "code",
   "execution_count": 20,
   "metadata": {},
   "outputs": [],
   "source": [
    "cnf_matrix_train = confusion_matrix(num_y_train, num_y_pred_train)\n",
    "cnf_matrix_test = confusion_matrix(num_y_test, num_y_pred_test)"
   ]
  },
  {
   "cell_type": "code",
   "execution_count": 21,
   "metadata": {
    "collapsed": false
   },
   "outputs": [
    {
     "name": "stdout",
     "output_type": "stream",
     "text": [
      "Confusion matrix, without normalization\n[[330   0   0]\n [  0 330   0]\n [ 69   3 368]]\nConfusion matrix, without normalization\n[[163   0   0]\n [  0 163   0]\n [ 50   3 164]]\n"
     ]
    },
    {
     "data": {
      "image/png": "[encoded data removed]",
      "text/plain": [
       "<matplotlib.figure.Figure at 0x7fb5d4090400>"
      ]
     },
     "metadata": {},
     "output_type": "display_data"
    }
   ],
   "source": [
    "plt.figure(figsize=(20, 7))\n",
    "plt.subplot(121)\n",
    "mu.plot_confusion_matrix(cnf_matrix_train, classes=['A', 'B', 'None'], title='Train Confusion matrix')\n",
    "plt.subplot(122)\n",
    "mu.plot_confusion_matrix(cnf_matrix_test, classes=['A', 'B', 'None'], title='Test Confusion matrix')\n",
    "plt.show()"
   ]
  },
  {
   "cell_type": "code",
   "execution_count": 22,
   "metadata": {},
   "outputs": [
    {
     "name": "stdout",
     "output_type": "stream",
     "text": [
      "Test Results\n\n              precision    recall  f1-score   support\n\n          A       0.77      1.00      0.87       163\n          B       0.98      1.00      0.99       163\n       None       1.00      0.76      0.86       217\n\navg / total       0.92      0.90      0.90       543\n\n"
     ]
    }
   ],
   "source": [
    "print('Test Results\\n\\n', classification_report(num_y_test, num_y_pred_test, target_names=['A', 'B', 'None']))"
   ]
  },
  {
   "cell_type": "markdown",
   "metadata": {},
   "source": [
    "## Grid search for a better model"
   ]
  },
  {
   "cell_type": "code",
   "execution_count": 23,
   "metadata": {},
   "outputs": [],
   "source": [
    "# Range of sizes of neural network for grid search.\n",
    "param_grid = [\n",
    "    {'layer1': [16], 'layer2': [16], 'layer3': [0]},\n",
    "    {'layer1': [32], 'layer2': [16], 'layer3': [0]},\n",
    "    {'layer1': [32], 'layer2': [32], 'layer3': [0]},\n",
    "    {'layer1': [32], 'layer2': [16], 'layer3': [8]},\n",
    "]"
   ]
  },
  {
   "cell_type": "code",
   "execution_count": 24,
   "metadata": {},
   "outputs": [],
   "source": [
    "# Function to create model, required for KerasClassifier\n",
    "def create_model_gscv(layer1 = 64, layer2 = 64, layer3 = 64):\n",
    "    \n",
    "    # create model\n",
    "    model = models.Sequential()\n",
    "    \n",
    "    # Hidden layers\n",
    "    model.add(layers.Dense(layer1, kernel_regularizer=regularizers.l2(0.001), activation='relu', input_shape=(NN_INPUT,)))\n",
    "    model.add(layers.Dropout(0.5))\n",
    "    if (layer2 > 0) :\n",
    "        model.add(layers.Dense(layer2, kernel_regularizer=regularizers.l2(0.001), activation='relu'))\n",
    "        model.add(layers.Dropout(0.5))\n",
    "    if (layer3 > 0) :\n",
    "        model.add(layers.Dense(layer3, kernel_regularizer=regularizers.l2(0.001), activation='relu'))\n",
    "        model.add(layers.Dropout(0.5))\n",
    "\n",
    "    # Output layer\n",
    "    model.add(layers.Dense(3, activation='softmax'))\n",
    "    \n",
    "    # Compile model\n",
    "    model.compile(optimizer='rmsprop',\n",
    "                  loss='sparse_categorical_crossentropy',\n",
    "                  metrics=['accuracy'])\n",
    "    return model"
   ]
  },
  {
   "cell_type": "code",
   "execution_count": 25,
   "metadata": {},
   "outputs": [],
   "source": [
    "nn_model = KerasClassifier(build_fn=create_model_gscv, epochs=1200, batch_size=128, verbose=0)"
   ]
  },
  {
   "cell_type": "code",
   "execution_count": 26,
   "metadata": {},
   "outputs": [],
   "source": [
    "# Use 3-fold stratified cross-validation.\n",
    "grid = GridSearchCV(estimator=nn_model, param_grid=param_grid, n_jobs=1, cv=3, refit=True, verbose=0, return_train_score=True)\n",
    "grid_result = grid.fit(X, y, class_weight={0:10, 1:10, 2:1})"
   ]
  },
  {
   "cell_type": "code",
   "execution_count": 27,
   "metadata": {},
   "outputs": [
    {
     "name": "stdout",
     "output_type": "stream",
     "text": [
      "Best: 0.909312 using {'layer1': 32, 'layer2': 32, 'layer3': 0}\n0.889227 (0.007670) with: {'layer1': 16, 'layer2': 16, 'layer3': 0}\n0.903226 (0.008943) with: {'layer1': 32, 'layer2': 16, 'layer3': 0}\n0.909312 (0.003815) with: {'layer1': 32, 'layer2': 32, 'layer3': 0}\n0.877663 (0.006436) with: {'layer1': 32, 'layer2': 16, 'layer3': 8}\n"
     ]
    }
   ],
   "source": [
    "# Summarize results.\n",
    "print(\"Best: %f using %s\" % (grid_result.best_score_, grid_result.best_params_))\n",
    "means = grid_result.cv_results_['mean_test_score']\n",
    "stds = grid_result.cv_results_['std_test_score']\n",
    "params = grid_result.cv_results_['params']\n",
    "for mean, stdev, param in zip(means, stds, params):\n",
    "    print(\"%f (%f) with: %r\" % (mean, stdev, param))"
   ]
  },
  {
   "cell_type": "code",
   "execution_count": 28,
   "metadata": {},
   "outputs": [
    {
     "data": {
      "image/png": "[encoded data removed]",
      "text/plain": [
       "<matplotlib.figure.Figure at 0x7fb5a6480470>"
      ]
     },
     "metadata": {},
     "output_type": "display_data"
    }
   ],
   "source": [
    "# Plotting the training and validation accuracy\n",
    "plt.clf()\n",
    "\n",
    "acc1 = grid_result.cv_results_['mean_train_score']\n",
    "val_acc1 = grid_result.cv_results_['mean_test_score']\n",
    "\n",
    "params1 = range(1, len(grid_result.cv_results_['params']) + 1)\n",
    "\n",
    "plt.plot(params1, acc1, 'bo', label='Training acc')\n",
    "plt.plot(params1, val_acc1, 'b', label='Validation acc')\n",
    "plt.title('Training and Validation Accuracy')\n",
    "plt.xlabel('Params')\n",
    "plt.xticks([1, 2, 3, 4])\n",
    "plt.ylabel('Accuracy')\n",
    "plt.legend()\n",
    "plt.show()\n"
   ]
  },
  {
   "cell_type": "markdown",
   "metadata": {},
   "source": [
    "## Score the best estimator on the test data"
   ]
  },
  {
   "cell_type": "code",
   "execution_count": 77,
   "metadata": {},
   "outputs": [],
   "source": [
    "X_test = np.load(os.path.join('data', 'x-test.npy'))\n",
    "y_test = np.load(os.path.join('data', 'y-test.npy'))"
   ]
  },
  {
   "cell_type": "code",
   "execution_count": 78,
   "metadata": {},
   "outputs": [
    {
     "data": {
      "text/plain": [
       "array([2, 2, 1, 2, 2, 2, 0, 2, 0, 2])"
      ]
     },
     "execution_count": 78,
     "metadata": {},
     "output_type": "execute_result"
    }
   ],
   "source": [
    "le = LabelEncoder()\n",
    "le.fit(y_test)\n",
    "num_y_test = le.transform(y_test)\n",
    "num_y_test[:10]"
   ]
  },
  {
   "cell_type": "code",
   "execution_count": 79,
   "metadata": {},
   "outputs": [
    {
     "data": {
      "text/plain": [
       "array(['None', 'B', 'None', 'None', 'None', 'None', 'A', 'None', 'None',\n       'None'], dtype=object)"
      ]
     },
     "execution_count": 79,
     "metadata": {},
     "output_type": "execute_result"
    }
   ],
   "source": [
    "y_pred_best_test = grid_result.predict(X_test)\n",
    "y_pred_best_test[:10]"
   ]
  },
  {
   "cell_type": "code",
   "execution_count": 80,
   "metadata": {},
   "outputs": [
    {
     "data": {
      "text/plain": [
       "array([2, 1, 2, 2, 2, 2, 0, 2, 2, 2])"
      ]
     },
     "execution_count": 80,
     "metadata": {},
     "output_type": "execute_result"
    }
   ],
   "source": [
    "le = LabelEncoder()\n",
    "le.fit(y_pred_best_test)\n",
    "num_y_pred_best_test = le.transform(y_pred_best_test)\n",
    "num_y_pred_best_test[:10]"
   ]
  },
  {
   "cell_type": "code",
   "execution_count": 81,
   "metadata": {},
   "outputs": [],
   "source": [
    "le.classes_"
   ]
  },
  {
   "cell_type": "code",
   "execution_count": 82,
   "metadata": {},
   "outputs": [
    {
     "data": {
      "text/plain": [
       "array([0, 1, 2])"
      ]
     },
     "execution_count": 82,
     "metadata": {},
     "output_type": "execute_result"
    }
   ],
   "source": [
    "le.transform(['A', 'B', 'None'])"
   ]
  },
  {
   "cell_type": "code",
   "execution_count": 83,
   "metadata": {},
   "outputs": [
    {
     "data": {
      "text/plain": [
       "array([0, 2, 0, 1, 0, 2, 2, 2, 1, 2])"
      ]
     },
     "execution_count": 83,
     "metadata": {},
     "output_type": "execute_result"
    }
   ],
   "source": [
    "num_y = le.transform(y)\n",
    "num_y[:10]"
   ]
  },
  {
   "cell_type": "code",
   "execution_count": 84,
   "metadata": {},
   "outputs": [
    {
     "data": {
      "text/plain": [
       "array(['A', 'None', 'A', 'B', 'A', 'None', 'None', 'A', 'B', 'None'], dtype=object)"
      ]
     },
     "execution_count": 84,
     "metadata": {},
     "output_type": "execute_result"
    }
   ],
   "source": [
    "y_pred_best = grid_result.predict(X)\n",
    "y_pred_best[:10]"
   ]
  },
  {
   "cell_type": "code",
   "execution_count": 85,
   "metadata": {},
   "outputs": [
    {
     "data": {
      "text/plain": [
       "array([0, 2, 0, 1, 0, 2, 2, 0, 1, 2])"
      ]
     },
     "execution_count": 85,
     "metadata": {},
     "output_type": "execute_result"
    }
   ],
   "source": [
    "le = LabelEncoder()\n",
    "le.fit(y_pred_best)\n",
    "num_y_pred_best = le.transform(y_pred_best)\n",
    "num_y_pred_best[:10]"
   ]
  },
  {
   "cell_type": "code",
   "execution_count": 86,
   "metadata": {},
   "outputs": [
    {
     "name": "stdout",
     "output_type": "stream",
     "text": [
      "Confusion matrix, without normalization\n[[493   0   0]\n [  0 493   0]\n [ 85   3 569]]\nConfusion matrix, without normalization\n[[ 13   0   8]\n [  0   2   7]\n [ 30  10 130]]\n"
     ]
    },
    {
     "data": {
      "image/png": "[encoded data removed]",
      "text/plain": [
       "<matplotlib.figure.Figure at 0x7fb5a5e0cc88>"
      ]
     },
     "metadata": {},
     "output_type": "display_data"
    }
   ],
   "source": [
    "cnf_matrix_best = confusion_matrix(num_y, num_y_pred_best)\n",
    "cnf_matrix_best_test = confusion_matrix(num_y_test, num_y_pred_best_test)\n",
    "plt.figure(figsize=(20, 7))\n",
    "plt.subplot(121)\n",
    "mu.plot_confusion_matrix(cnf_matrix_best, classes=['A', 'B', 'None'], title='Train confusion matrix of best estimator')\n",
    "plt.subplot(122)\n",
    "mu.plot_confusion_matrix(cnf_matrix_best_test, classes=['A', 'B', 'None'], title='Test confusion matrix of best estimator')\n",
    "plt.show()"
   ]
  },
  {
   "cell_type": "code",
   "execution_count": 87,
   "metadata": {},
   "outputs": [
    {
     "name": "stdout",
     "output_type": "stream",
     "text": [
      "             precision    recall  f1-score   support\n\n          A       0.85      1.00      0.92       493\n          B       0.99      1.00      1.00       493\n       None       1.00      0.87      0.93       657\n\navg / total       0.95      0.95      0.95      1643\n\n"
     ]
    }
   ],
   "source": [
    "print(classification_report(num_y, num_y_pred_best, target_names=['A', 'B', 'None']))"
   ]
  },
  {
   "cell_type": "markdown",
   "metadata": {},
   "source": [
    "## Perform precision-recall tradeoff for decision threshold"
   ]
  },
  {
   "cell_type": "code",
   "execution_count": 97,
   "metadata": {},
   "outputs": [
    {
     "data": {
      "text/plain": [
       "array([[  9.86071765e-01,   0.00000000e+00,   1.39282364e-02],\n       [  1.00618492e-20,   2.05141851e-17,   1.00000000e+00],\n       [  9.79804933e-01,   0.00000000e+00,   2.01950297e-02],\n       ..., \n       [  0.00000000e+00,   9.97124732e-01,   2.87528546e-03],\n       [  9.80192363e-01,   0.00000000e+00,   1.98076013e-02],\n       [  9.82866824e-01,   1.69281451e-38,   1.71332136e-02]], dtype=float32)"
      ]
     },
     "execution_count": 97,
     "metadata": {},
     "output_type": "execute_result"
    }
   ],
   "source": [
    "y_scores = grid_result.predict_proba(X)\n",
    "y_scores"
   ]
  },
  {
   "cell_type": "markdown",
   "metadata": {},
   "source": [
    "### Class A"
   ]
  },
  {
   "cell_type": "code",
   "execution_count": 106,
   "metadata": {},
   "outputs": [
    {
     "data": {
      "text/plain": [
       "array([  9.86071765e-01,   1.00618492e-20,   9.79804933e-01, ...,\n         0.00000000e+00,   9.80192363e-01,   9.82866824e-01], dtype=float32)"
      ]
     },
     "execution_count": 106,
     "metadata": {},
     "output_type": "execute_result"
    }
   ],
   "source": [
    "y_scores_A = y_scores[:, 0]\n",
    "y_scores_A"
   ]
  },
  {
   "cell_type": "code",
   "execution_count": 142,
   "metadata": {},
   "outputs": [
    {
     "data": {
      "text/plain": [
       "array([1, 0, 1, ..., 0, 1, 1])"
      ]
     },
     "execution_count": 142,
     "metadata": {},
     "output_type": "execute_result"
    }
   ],
   "source": [
    "y_A = (y == 'A').astype(int)\n",
    "y_A"
   ]
  },
  {
   "cell_type": "code",
   "execution_count": 161,
   "metadata": {},
   "outputs": [
    {
     "data": {
      "text/plain": [
       "0.95953137"
      ]
     },
     "execution_count": 161,
     "metadata": {},
     "output_type": "execute_result"
    }
   ],
   "source": [
    "np.min(y_scores_A[y_A == 1])"
   ]
  },
  {
   "cell_type": "code",
   "execution_count": 160,
   "metadata": {},
   "outputs": [
    {
     "data": {
      "text/plain": [
       "(array([  3.,   0.,   4.,   0.,   2.,   0.,   3.,   0.,   0.,   0.,   7.,\n          0.,   0.,   9.,   0.,  11.,  21.,   5.,  10.,   4.,   8.,   9.,\n         11.,   9.,  25.,  12.,  16.,  11.,   6.,   9.,  50.,   2.,  11.,\n         20.,  24.,  15.,  14.,  15.,  10.,  28.,  25.,  41.,  25.,   0.,\n          5.,   0.,   4.,   0.,   4.,   5.]),\n array([ 0.95953137,  0.96029318,  0.961055  ,  0.96181681,  0.96257862,\n         0.96334044,  0.96410225,  0.96486407,  0.96562588,  0.96638769,\n         0.96714951,  0.96791132,  0.96867314,  0.96943495,  0.97019676,\n         0.97095858,  0.97172039,  0.97248221,  0.97324402,  0.97400584,\n         0.97476765,  0.97552946,  0.97629128,  0.97705309,  0.97781491,\n         0.97857672,  0.97933853,  0.98010035,  0.98086216,  0.98162398,\n         0.98238579,  0.9831476 ,  0.98390942,  0.98467123,  0.98543305,\n         0.98619486,  0.98695668,  0.98771849,  0.9884803 ,  0.98924212,\n         0.99000393,  0.99076575,  0.99152756,  0.99228937,  0.99305119,\n         0.993813  ,  0.99457482,  0.99533663,  0.99609844,  0.99686026,\n         0.99762207]),\n <a list of 50 Patch objects>)"
      ]
     },
     "execution_count": 160,
     "metadata": {},
     "output_type": "execute_result"
    },
    {
     "data": {
      "image/png": "[encoded data removed]",
      "text/plain": [
       "<matplotlib.figure.Figure at 0x7fb5a697c278>"
      ]
     },
     "metadata": {},
     "output_type": "display_data"
    }
   ],
   "source": [
    "plt.hist(y_scores_A[y_A == 1], bins=50)"
   ]
  },
  {
   "cell_type": "code",
   "execution_count": 153,
   "metadata": {},
   "outputs": [
    {
     "data": {
      "text/plain": [
       "(array([  1.,   1.,   0.,   1.,   1.,   0.,   0.,   0.,   1.,   2.,   2.,\n          0.,   0.,   2.,   0.,   0.,   1.,   1.,   1.,   1.,   0.,   2.,\n          1.,   1.,   1.,   1.,   0.,   2.,   1.,   1.,   0.,   0.,   0.,\n          0.,   1.,   1.,   0.,   2.,   0.,   1.,   0.,   1.,   3.,   4.,\n          1.,   1.,   2.,  21.,   9.,  13.]),\n array([ 0.51986963,  0.52922164,  0.53857365,  0.54792567,  0.55727768,\n         0.5666297 ,  0.57598171,  0.58533372,  0.59468574,  0.60403775,\n         0.61338977,  0.62274178,  0.63209379,  0.64144581,  0.65079782,\n         0.66014984,  0.66950185,  0.67885386,  0.68820588,  0.69755789,\n         0.70690991,  0.71626192,  0.72561393,  0.73496595,  0.74431796,\n         0.75366998,  0.76302199,  0.77237401,  0.78172602,  0.79107803,\n         0.80043005,  0.80978206,  0.81913408,  0.82848609,  0.8378381 ,\n         0.84719012,  0.85654213,  0.86589415,  0.87524616,  0.88459817,\n         0.89395019,  0.9033022 ,  0.91265422,  0.92200623,  0.93135824,\n         0.94071026,  0.95006227,  0.95941429,  0.9687663 ,  0.97811831,\n         0.98747033]),\n <a list of 50 Patch objects>)"
      ]
     },
     "execution_count": 153,
     "metadata": {},
     "output_type": "execute_result"
    },
    {
     "data": {
      "image/png": "[encoded data removed]",
      "text/plain": [
       "<matplotlib.figure.Figure at 0x7fb5a57a3240>"
      ]
     },
     "metadata": {},
     "output_type": "display_data"
    }
   ],
   "source": [
    "plt.hist(y_scores_A[(y_A == 0) & (y_scores_A > .5)], bins=50)"
   ]
  },
  {
   "cell_type": "code",
   "execution_count": 164,
   "metadata": {},
   "outputs": [
    {
     "name": "stdout",
     "output_type": "stream",
     "text": [
      "FP > .95 =45.000000\n.5 < FP < .95 =40.000000\n"
     ]
    }
   ],
   "source": [
    "print('FP > .95 =%f\\n.5 < FP < .95 =%f' %\n",
    "      (len(y_scores_A[(y_A == 0) & (y_scores_A >= .95)]), len(y_scores_A[(y_A == 0) & (y_scores_A > .5) & (y_scores_A < .95)])))"
   ]
  },
  {
   "cell_type": "code",
   "execution_count": 174,
   "metadata": {},
   "outputs": [],
   "source": [
    "precisionsA, recallsA, thresholdsA = precision_recall_curve(y_A, y_scores_A)"
   ]
  },
  {
   "cell_type": "code",
   "execution_count": 175,
   "metadata": {},
   "outputs": [
    {
     "data": {
      "image/png": "[encoded data removed]",
      "text/plain": [
       "<matplotlib.figure.Figure at 0x7fb5a5f39860>"
      ]
     },
     "metadata": {},
     "output_type": "display_data"
    }
   ],
   "source": [
    "plt.figure(figsize=(15, 7))\n",
    "plt.plot(thresholdsA, precisionsA[:-1], 'b--', label='Precision')\n",
    "plt.plot(thresholdsA, recallsA[:-1], 'g-', label='Recall')\n",
    "plt.xlabel('Threshold')\n",
    "#plt.xlim([0, 1])\n",
    "plt.legend()\n",
    "plt.ylim([0, 1])\n",
    "plt.title('A vs the rest Precision-Recall Curve')\n",
    "plt.show()"
   ]
  },
  {
   "cell_type": "code",
   "execution_count": 124,
   "metadata": {},
   "outputs": [
    {
     "data": {
      "text/plain": [
       "array([ True, False,  True, ..., False,  True,  True], dtype=bool)"
      ]
     },
     "execution_count": 124,
     "metadata": {},
     "output_type": "execute_result"
    }
   ],
   "source": [
    "threshold = .97\n",
    "y_A_pred_97 = (y_scores_A > threshold)\n",
    "y_A_pred_97"
   ]
  },
  {
   "cell_type": "code",
   "execution_count": 165,
   "metadata": {},
   "outputs": [
    {
     "data": {
      "text/html": [
       "<div>\n",
       "<style scoped>\n",
       "    .dataframe tbody tr th:only-of-type {\n",
       "        vertical-align: middle;\n",
       "    }\n",
       "\n",
       "    .dataframe tbody tr th {\n",
       "        vertical-align: top;\n",
       "    }\n",
       "\n",
       "    .dataframe thead th {\n",
       "        text-align: right;\n",
       "    }\n",
       "</style>\n",
       "<table border=\"1\" class=\"dataframe\">\n",
       "  <thead>\n",
       "    <tr style=\"text-align: right;\">\n",
       "      <th></th>\n",
       "      <th>Threshold</th>\n",
       "      <th>Precision</th>\n",
       "      <th>Recall</th>\n",
       "    </tr>\n",
       "  </thead>\n",
       "  <tbody>\n",
       "    <tr>\n",
       "      <th>0</th>\n",
       "      <td>0.950</td>\n",
       "      <td>0.916357</td>\n",
       "      <td>1.000000</td>\n",
       "    </tr>\n",
       "    <tr>\n",
       "      <th>1</th>\n",
       "      <td>0.960</td>\n",
       "      <td>0.921053</td>\n",
       "      <td>0.993915</td>\n",
       "    </tr>\n",
       "    <tr>\n",
       "      <th>2</th>\n",
       "      <td>0.970</td>\n",
       "      <td>0.955010</td>\n",
       "      <td>0.947262</td>\n",
       "    </tr>\n",
       "    <tr>\n",
       "      <th>3</th>\n",
       "      <td>0.975</td>\n",
       "      <td>0.960557</td>\n",
       "      <td>0.839757</td>\n",
       "    </tr>\n",
       "    <tr>\n",
       "      <th>4</th>\n",
       "      <td>0.980</td>\n",
       "      <td>0.970674</td>\n",
       "      <td>0.671400</td>\n",
       "    </tr>\n",
       "    <tr>\n",
       "      <th>5</th>\n",
       "      <td>0.985</td>\n",
       "      <td>0.991189</td>\n",
       "      <td>0.456389</td>\n",
       "    </tr>\n",
       "  </tbody>\n",
       "</table>\n",
       "</div>"
      ],
      "text/plain": [
       "<div>\n",
       "<style scoped>\n",
       "    .dataframe tbody tr th:only-of-type {\n",
       "        vertical-align: middle;\n",
       "    }\n",
       "\n",
       "    .dataframe tbody tr th {\n",
       "        vertical-align: top;\n",
       "    }\n",
       "\n",
       "    .dataframe thead th {\n",
       "        text-align: right;\n",
       "    }\n",
       "</style>\n",
       "<table border=\"1\" class=\"dataframe\">\n",
       "  <thead>\n",
       "    <tr style=\"text-align: right;\">\n",
       "      <th></th>\n",
       "      <th>Threshold</th>\n",
       "      <th>Precision</th>\n",
       "      <th>Recall</th>\n",
       "    </tr>\n",
       "  </thead>\n",
       "  <tbody>\n",
       "    <tr>\n",
       "      <th>0</th>\n",
       "      <td>0.950</td>\n",
       "      <td>0.916357</td>\n",
       "      <td>1.000000</td>\n",
       "    </tr>\n",
       "    <tr>\n",
       "      <th>1</th>\n",
       "      <td>0.960</td>\n",
       "      <td>0.921053</td>\n",
       "      <td>0.993915</td>\n",
       "    </tr>\n",
       "    <tr>\n",
       "      <th>2</th>\n",
       "      <td>0.970</td>\n",
       "      <td>0.955010</td>\n",
       "      <td>0.947262</td>\n",
       "    </tr>\n",
       "    <tr>\n",
       "      <th>3</th>\n",
       "      <td>0.975</td>\n",
       "      <td>0.960557</td>\n",
       "      <td>0.839757</td>\n",
       "    </tr>\n",
       "    <tr>\n",
       "      <th>4</th>\n",
       "      <td>0.980</td>\n",
       "      <td>0.970674</td>\n",
       "      <td>0.671400</td>\n",
       "    </tr>\n",
       "    <tr>\n",
       "      <th>5</th>\n",
       "      <td>0.985</td>\n",
       "      <td>0.991189</td>\n",
       "      <td>0.456389</td>\n",
       "    </tr>\n",
       "  </tbody>\n",
       "</table>\n",
       "</div>"
      ]
     },
     "execution_count": 165,
     "metadata": {},
     "output_type": "execute_result"
    }
   ],
   "source": [
    "pc_scores = [[threshold, precision_score(y_A, (y_scores_A > threshold)), recall_score(y_A, (y_scores_A > threshold))]\n",
    "             for threshold in [.95, .96, .97, .975, .98, .985]]\n",
    "pd.DataFrame(pc_scores, columns=['Threshold', 'Precision', 'Recall'])"
   ]
  },
  {
   "cell_type": "markdown",
   "metadata": {},
   "source": [
    "### Class B"
   ]
  },
  {
   "cell_type": "code",
   "execution_count": 166,
   "metadata": {},
   "outputs": [
    {
     "data": {
      "text/plain": [
       "array([  0.00000000e+00,   2.05141851e-17,   0.00000000e+00, ...,\n         9.97124732e-01,   0.00000000e+00,   1.69281451e-38], dtype=float32)"
      ]
     },
     "execution_count": 166,
     "metadata": {},
     "output_type": "execute_result"
    }
   ],
   "source": [
    "y_scores_B = y_scores[:, 1]\n",
    "y_scores_B"
   ]
  },
  {
   "cell_type": "code",
   "execution_count": 167,
   "metadata": {},
   "outputs": [
    {
     "data": {
      "text/plain": [
       "array([0, 0, 0, ..., 1, 0, 0])"
      ]
     },
     "execution_count": 167,
     "metadata": {},
     "output_type": "execute_result"
    }
   ],
   "source": [
    "y_B = (y == 'B').astype(int)\n",
    "y_B"
   ]
  },
  {
   "cell_type": "code",
   "execution_count": 169,
   "metadata": {},
   "outputs": [
    {
     "data": {
      "text/plain": [
       "0.99195486"
      ]
     },
     "execution_count": 169,
     "metadata": {},
     "output_type": "execute_result"
    }
   ],
   "source": [
    "np.min(y_scores_B[y_B == 1])"
   ]
  },
  {
   "cell_type": "code",
   "execution_count": 170,
   "metadata": {},
   "outputs": [
    {
     "data": {
      "text/plain": [
       "(array([ 19.,   0.,   0.,   0.,   0.,   0.,   0.,   0.,   0.,  14.,   0.,\n          0.,  16.,   0.,   0.,   0.,   0.,   0.,   0.,   0.,   0.,   0.,\n          0.,  15.,   0.,   0.,   0.,   0.,   0.,   0.,   0.,   0.,   0.,\n         33.,  10.,   0.,  79.,  18.,  36.,  21.,  38.,  17.,  30.,  75.,\n         15.,  14.,  11.,  17.,   0.,  15.]),\n array([ 0.99195486,  0.99209744,  0.99224002,  0.9923826 ,  0.99252517,\n         0.99266775,  0.99281033,  0.99295291,  0.99309549,  0.99323806,\n         0.99338064,  0.99352322,  0.9936658 ,  0.99380838,  0.99395095,\n         0.99409353,  0.99423611,  0.99437869,  0.99452127,  0.99466384,\n         0.99480642,  0.994949  ,  0.99509158,  0.99523415,  0.99537673,\n         0.99551931,  0.99566189,  0.99580447,  0.99594704,  0.99608962,\n         0.9962322 ,  0.99637478,  0.99651736,  0.99665993,  0.99680251,\n         0.99694509,  0.99708767,  0.99723024,  0.99737282,  0.9975154 ,\n         0.99765798,  0.99780056,  0.99794313,  0.99808571,  0.99822829,\n         0.99837087,  0.99851345,  0.99865602,  0.9987986 ,  0.99894118,\n         0.99908376]),\n <a list of 50 Patch objects>)"
      ]
     },
     "execution_count": 170,
     "metadata": {},
     "output_type": "execute_result"
    },
    {
     "data": {
      "image/png": "[encoded data removed]",
      "text/plain": [
       "<matplotlib.figure.Figure at 0x7fb5a68d4160>"
      ]
     },
     "metadata": {},
     "output_type": "display_data"
    }
   ],
   "source": [
    "plt.hist(y_scores_B[y_B == 1], bins=50)"
   ]
  },
  {
   "cell_type": "code",
   "execution_count": 172,
   "metadata": {},
   "outputs": [
    {
     "data": {
      "text/plain": [
       "(array([ 1.,  0.,  0.,  0.,  0.,  0.,  0.,  0.,  0.,  0.,  0.,  0.,  0.,\n         0.,  0.,  0.,  0.,  0.,  0.,  0.,  0.,  1.,  0.,  0.,  0.,  0.,\n         0.,  0.,  0.,  0.,  0.,  0.,  0.,  0.,  0.,  0.,  0.,  0.,  0.,\n         0.,  0.,  0.,  0.,  0.,  0.,  0.,  0.,  0.,  0.,  1.]),\n array([ 0.61898327,  0.62613854,  0.63329382,  0.64044909,  0.64760437,\n         0.65475964,  0.66191491,  0.66907019,  0.67622546,  0.68338074,\n         0.69053601,  0.69769128,  0.70484656,  0.71200183,  0.71915711,\n         0.72631238,  0.73346766,  0.74062293,  0.7477782 ,  0.75493348,\n         0.76208875,  0.76924403,  0.7763993 ,  0.78355457,  0.79070985,\n         0.79786512,  0.8050204 ,  0.81217567,  0.81933095,  0.82648622,\n         0.83364149,  0.84079677,  0.84795204,  0.85510732,  0.86226259,\n         0.86941786,  0.87657314,  0.88372841,  0.89088369,  0.89803896,\n         0.90519423,  0.91234951,  0.91950478,  0.92666006,  0.93381533,\n         0.94097061,  0.94812588,  0.95528115,  0.96243643,  0.9695917 ,\n         0.97674698]),\n <a list of 50 Patch objects>)"
      ]
     },
     "execution_count": 172,
     "metadata": {},
     "output_type": "execute_result"
    },
    {
     "data": {
      "image/png": "[encoded data removed]",
      "text/plain": [
       "<matplotlib.figure.Figure at 0x7fb5a5c70c18>"
      ]
     },
     "metadata": {},
     "output_type": "display_data"
    }
   ],
   "source": [
    "plt.hist(y_scores_B[(y_B == 0) & (y_scores_B > .5)], bins=50)"
   ]
  },
  {
   "cell_type": "code",
   "execution_count": 171,
   "metadata": {},
   "outputs": [
    {
     "name": "stdout",
     "output_type": "stream",
     "text": [
      "FP > .95 =1.000000\n.5 < FP < .95 =2.000000\n"
     ]
    }
   ],
   "source": [
    "print('FP > .95 =%f\\n.5 < FP < .95 =%f' %\n",
    "      (len(y_scores_B[(y_B == 0) & (y_scores_B >= .95)]), len(y_scores_B[(y_B == 0) & (y_scores_B > .5) & (y_scores_B < .95)])))"
   ]
  },
  {
   "cell_type": "code",
   "execution_count": 178,
   "metadata": {},
   "outputs": [],
   "source": [
    "precisionsB, recallsB, thresholdsB = precision_recall_curve(y_B, y_scores_B)"
   ]
  },
  {
   "cell_type": "code",
   "execution_count": 182,
   "metadata": {},
   "outputs": [
    {
     "data": {
      "image/png": "[encoded data removed]",
      "text/plain": [
       "<matplotlib.figure.Figure at 0x7fb5a649ff60>"
      ]
     },
     "metadata": {},
     "output_type": "display_data"
    }
   ],
   "source": [
    "plt.figure(figsize=(15, 7))\n",
    "plt.plot(thresholdsB, precisionsB[:-1], 'b--', label='Precision')\n",
    "plt.plot(thresholdsB, recallsB[:-1], 'g-', label='Recall')\n",
    "plt.xlabel('Threshold')\n",
    "#plt.xlim([0, 1])\n",
    "plt.legend()\n",
    "plt.ylim([0, 1.1])\n",
    "plt.title('B vs the rest Precision-Recall Curve')\n",
    "plt.show()"
   ]
  },
  {
   "cell_type": "code",
   "execution_count": 183,
   "metadata": {},
   "outputs": [
    {
     "data": {
      "text/html": [
       "<div>\n",
       "<style scoped>\n",
       "    .dataframe tbody tr th:only-of-type {\n",
       "        vertical-align: middle;\n",
       "    }\n",
       "\n",
       "    .dataframe tbody tr th {\n",
       "        vertical-align: top;\n",
       "    }\n",
       "\n",
       "    .dataframe thead th {\n",
       "        text-align: right;\n",
       "    }\n",
       "</style>\n",
       "<table border=\"1\" class=\"dataframe\">\n",
       "  <thead>\n",
       "    <tr style=\"text-align: right;\">\n",
       "      <th></th>\n",
       "      <th>Threshold</th>\n",
       "      <th>Precision</th>\n",
       "      <th>Recall</th>\n",
       "    </tr>\n",
       "  </thead>\n",
       "  <tbody>\n",
       "    <tr>\n",
       "      <th>0</th>\n",
       "      <td>0.950</td>\n",
       "      <td>0.997976</td>\n",
       "      <td>1.0</td>\n",
       "    </tr>\n",
       "    <tr>\n",
       "      <th>1</th>\n",
       "      <td>0.960</td>\n",
       "      <td>0.997976</td>\n",
       "      <td>1.0</td>\n",
       "    </tr>\n",
       "    <tr>\n",
       "      <th>2</th>\n",
       "      <td>0.970</td>\n",
       "      <td>0.997976</td>\n",
       "      <td>1.0</td>\n",
       "    </tr>\n",
       "    <tr>\n",
       "      <th>3</th>\n",
       "      <td>0.975</td>\n",
       "      <td>0.997976</td>\n",
       "      <td>1.0</td>\n",
       "    </tr>\n",
       "    <tr>\n",
       "      <th>4</th>\n",
       "      <td>0.980</td>\n",
       "      <td>1.000000</td>\n",
       "      <td>1.0</td>\n",
       "    </tr>\n",
       "    <tr>\n",
       "      <th>5</th>\n",
       "      <td>0.985</td>\n",
       "      <td>1.000000</td>\n",
       "      <td>1.0</td>\n",
       "    </tr>\n",
       "  </tbody>\n",
       "</table>\n",
       "</div>"
      ],
      "text/plain": [
       "<div>\n",
       "<style scoped>\n",
       "    .dataframe tbody tr th:only-of-type {\n",
       "        vertical-align: middle;\n",
       "    }\n",
       "\n",
       "    .dataframe tbody tr th {\n",
       "        vertical-align: top;\n",
       "    }\n",
       "\n",
       "    .dataframe thead th {\n",
       "        text-align: right;\n",
       "    }\n",
       "</style>\n",
       "<table border=\"1\" class=\"dataframe\">\n",
       "  <thead>\n",
       "    <tr style=\"text-align: right;\">\n",
       "      <th></th>\n",
       "      <th>Threshold</th>\n",
       "      <th>Precision</th>\n",
       "      <th>Recall</th>\n",
       "    </tr>\n",
       "  </thead>\n",
       "  <tbody>\n",
       "    <tr>\n",
       "      <th>0</th>\n",
       "      <td>0.950</td>\n",
       "      <td>0.997976</td>\n",
       "      <td>1.0</td>\n",
       "    </tr>\n",
       "    <tr>\n",
       "      <th>1</th>\n",
       "      <td>0.960</td>\n",
       "      <td>0.997976</td>\n",
       "      <td>1.0</td>\n",
       "    </tr>\n",
       "    <tr>\n",
       "      <th>2</th>\n",
       "      <td>0.970</td>\n",
       "      <td>0.997976</td>\n",
       "      <td>1.0</td>\n",
       "    </tr>\n",
       "    <tr>\n",
       "      <th>3</th>\n",
       "      <td>0.975</td>\n",
       "      <td>0.997976</td>\n",
       "      <td>1.0</td>\n",
       "    </tr>\n",
       "    <tr>\n",
       "      <th>4</th>\n",
       "      <td>0.980</td>\n",
       "      <td>1.000000</td>\n",
       "      <td>1.0</td>\n",
       "    </tr>\n",
       "    <tr>\n",
       "      <th>5</th>\n",
       "      <td>0.985</td>\n",
       "      <td>1.000000</td>\n",
       "      <td>1.0</td>\n",
       "    </tr>\n",
       "  </tbody>\n",
       "</table>\n",
       "</div>"
      ]
     },
     "execution_count": 183,
     "metadata": {},
     "output_type": "execute_result"
    }
   ],
   "source": [
    "pc_scores = [[threshold, precision_score(y_B, (y_scores_B > threshold)), recall_score(y_B, (y_scores_B > threshold))]\n",
    "             for threshold in [.95, .96, .97, .975, .98, .985]]\n",
    "pd.DataFrame(pc_scores, columns=['Threshold', 'Precision', 'Recall'])"
   ]
  },
  {
   "cell_type": "markdown",
   "metadata": {},
   "source": [
    "### Confusion matrix for new decision thresholds"
   ]
  },
  {
   "cell_type": "code",
   "execution_count": 184,
   "metadata": {},
   "outputs": [],
   "source": [
    "threshold = {'A': .95, 'B': .95, 'None':0.0}"
   ]
  },
  {
   "cell_type": "code",
   "execution_count": 187,
   "metadata": {},
   "outputs": [
    {
     "ename": "TypeError",
     "evalue": "unhashable type: 'numpy.ndarray'",
     "traceback": [
      "\u001b[0;31m---------------------------------------------------------------------------\u001b[0m",
      "\u001b[0;31mTypeError\u001b[0m                                 Traceback (most recent call last)",
      "\u001b[0;32m<ipython-input-187-2774f4e89db5>\u001b[0m in \u001b[0;36m<module>\u001b[0;34m()\u001b[0m\n\u001b[0;32m----> 1\u001b[0;31m \u001b[0my_pred_new\u001b[0m \u001b[0;34m=\u001b[0m \u001b[0;34m(\u001b[0m\u001b[0my\u001b[0m \u001b[0;32mif\u001b[0m \u001b[0my_scores\u001b[0m \u001b[0;34m>=\u001b[0m \u001b[0mthreshold\u001b[0m\u001b[0;34m[\u001b[0m\u001b[0my\u001b[0m\u001b[0;34m]\u001b[0m \u001b[0;32melse\u001b[0m \u001b[0;34m'None'\u001b[0m\u001b[0;34m)\u001b[0m\u001b[0;34m\u001b[0m\u001b[0m\n\u001b[0m",
      "\u001b[0;31mTypeError\u001b[0m: unhashable type: 'numpy.ndarray'"
     ],
     "output_type": "error"
    }
   ],
   "source": [
    "y_pred_new = (y if y_scores >= threshold[y] else 'None')"
   ]
  },
  {
   "cell_type": "code",
   "execution_count": null,
   "metadata": {},
   "outputs": [],
   "source": []
  },
  {
   "cell_type": "code",
   "execution_count": null,
   "metadata": {},
   "outputs": [],
   "source": []
  },
  {
   "cell_type": "code",
   "execution_count": null,
   "metadata": {},
   "outputs": [],
   "source": []
  },
  {
   "cell_type": "code",
   "execution_count": null,
   "metadata": {},
   "outputs": [],
   "source": []
  },
  {
   "cell_type": "markdown",
   "metadata": {},
   "source": [
    "## Fit the best model to all the data"
   ]
  },
  {
   "cell_type": "code",
   "execution_count": 37,
   "metadata": {},
   "outputs": [],
   "source": [
    "all_X = np.append(X, X_test, axis=0)\n",
    "all_y = np.append(y, y_test, axis=0)"
   ]
  },
  {
   "cell_type": "code",
   "execution_count": 38,
   "metadata": {},
   "outputs": [
    {
     "data": {
      "text/plain": [
       "(1843, 23)"
      ]
     },
     "execution_count": 38,
     "metadata": {},
     "output_type": "execute_result"
    }
   ],
   "source": [
    "all_X.shape"
   ]
  },
  {
   "cell_type": "code",
   "execution_count": 39,
   "metadata": {},
   "outputs": [
    {
     "data": {
      "text/plain": [
       "(1843,)"
      ]
     },
     "execution_count": 39,
     "metadata": {},
     "output_type": "execute_result"
    }
   ],
   "source": [
    "all_y.shape"
   ]
  },
  {
   "cell_type": "code",
   "execution_count": 40,
   "metadata": {},
   "outputs": [
    {
     "data": {
      "text/html": [
       "<div>\n",
       "<style scoped>\n",
       "    .dataframe tbody tr th:only-of-type {\n",
       "        vertical-align: middle;\n",
       "    }\n",
       "\n",
       "    .dataframe tbody tr th {\n",
       "        vertical-align: top;\n",
       "    }\n",
       "\n",
       "    .dataframe thead th {\n",
       "        text-align: right;\n",
       "    }\n",
       "</style>\n",
       "<table border=\"1\" class=\"dataframe\">\n",
       "  <thead>\n",
       "    <tr style=\"text-align: right;\">\n",
       "      <th></th>\n",
       "      <th>A</th>\n",
       "      <th>B</th>\n",
       "      <th>None</th>\n",
       "    </tr>\n",
       "  </thead>\n",
       "  <tbody>\n",
       "    <tr>\n",
       "      <th>0</th>\n",
       "      <td>1</td>\n",
       "      <td>0</td>\n",
       "      <td>0</td>\n",
       "    </tr>\n",
       "    <tr>\n",
       "      <th>1</th>\n",
       "      <td>0</td>\n",
       "      <td>0</td>\n",
       "      <td>1</td>\n",
       "    </tr>\n",
       "    <tr>\n",
       "      <th>2</th>\n",
       "      <td>1</td>\n",
       "      <td>0</td>\n",
       "      <td>0</td>\n",
       "    </tr>\n",
       "    <tr>\n",
       "      <th>3</th>\n",
       "      <td>0</td>\n",
       "      <td>1</td>\n",
       "      <td>0</td>\n",
       "    </tr>\n",
       "    <tr>\n",
       "      <th>4</th>\n",
       "      <td>1</td>\n",
       "      <td>0</td>\n",
       "      <td>0</td>\n",
       "    </tr>\n",
       "  </tbody>\n",
       "</table>\n",
       "</div>"
      ],
      "text/plain": [
       "<div>\n",
       "<style scoped>\n",
       "    .dataframe tbody tr th:only-of-type {\n",
       "        vertical-align: middle;\n",
       "    }\n",
       "\n",
       "    .dataframe tbody tr th {\n",
       "        vertical-align: top;\n",
       "    }\n",
       "\n",
       "    .dataframe thead th {\n",
       "        text-align: right;\n",
       "    }\n",
       "</style>\n",
       "<table border=\"1\" class=\"dataframe\">\n",
       "  <thead>\n",
       "    <tr style=\"text-align: right;\">\n",
       "      <th></th>\n",
       "      <th>A</th>\n",
       "      <th>B</th>\n",
       "      <th>None</th>\n",
       "    </tr>\n",
       "  </thead>\n",
       "  <tbody>\n",
       "    <tr>\n",
       "      <th>0</th>\n",
       "      <td>1</td>\n",
       "      <td>0</td>\n",
       "      <td>0</td>\n",
       "    </tr>\n",
       "    <tr>\n",
       "      <th>1</th>\n",
       "      <td>0</td>\n",
       "      <td>0</td>\n",
       "      <td>1</td>\n",
       "    </tr>\n",
       "    <tr>\n",
       "      <th>2</th>\n",
       "      <td>1</td>\n",
       "      <td>0</td>\n",
       "      <td>0</td>\n",
       "    </tr>\n",
       "    <tr>\n",
       "      <th>3</th>\n",
       "      <td>0</td>\n",
       "      <td>1</td>\n",
       "      <td>0</td>\n",
       "    </tr>\n",
       "    <tr>\n",
       "      <th>4</th>\n",
       "      <td>1</td>\n",
       "      <td>0</td>\n",
       "      <td>0</td>\n",
       "    </tr>\n",
       "  </tbody>\n",
       "</table>\n",
       "</div>"
      ]
     },
     "execution_count": 40,
     "metadata": {},
     "output_type": "execute_result"
    }
   ],
   "source": [
    "all_y_df = pd.get_dummies(all_y)\n",
    "all_y_df.head()"
   ]
  },
  {
   "cell_type": "code",
   "execution_count": 41,
   "metadata": {},
   "outputs": [
    {
     "data": {
      "text/plain": [
       "array([[1, 0, 0],\n       [0, 0, 1],\n       [1, 0, 0],\n       ..., \n       [0, 0, 1],\n       [0, 0, 1],\n       [0, 0, 1]], dtype=uint8)"
      ]
     },
     "execution_count": 41,
     "metadata": {},
     "output_type": "execute_result"
    }
   ],
   "source": [
    "one_hot_all_y = all_y_df.values\n",
    "one_hot_all_y"
   ]
  },
  {
   "cell_type": "code",
   "execution_count": 42,
   "metadata": {},
   "outputs": [],
   "source": [
    "# Model Definition\n",
    "final_model = models.Sequential()\n",
    "final_model.add(layers.Dense(32, kernel_regularizer=regularizers.l2(0.001), activation='relu', input_shape=(NN_INPUT,)))\n",
    "final_model.add(layers.Dropout(0.5))\n",
    "final_model.add(layers.Dense(32, kernel_regularizer=regularizers.l2(0.001), activation='relu'))\n",
    "final_model.add(layers.Dropout(0.5))\n",
    "final_model.add(layers.Dense(3, activation='softmax'))"
   ]
  },
  {
   "cell_type": "code",
   "execution_count": 43,
   "metadata": {},
   "outputs": [],
   "source": [
    "# Compile the Model.\n",
    "final_model.compile(optimizer='rmsprop',\n",
    "                    loss='categorical_crossentropy',\n",
    "                    metrics=['accuracy'])\n"
   ]
  },
  {
   "cell_type": "code",
   "execution_count": 44,
   "metadata": {},
   "outputs": [],
   "source": [
    "# Training the model\n",
    "history = final_model.fit(all_X,\n",
    "                          one_hot_all_y,\n",
    "                          epochs=1200,\n",
    "                          batch_size=128,\n",
    "                          verbose=0)\n"
   ]
  },
  {
   "cell_type": "code",
   "execution_count": 45,
   "metadata": {},
   "outputs": [
    {
     "data": {
      "image/png": "[encoded data removed]",
      "text/plain": [
       "<matplotlib.figure.Figure at 0x7fb5a5f8df98>"
      ]
     },
     "metadata": {},
     "output_type": "display_data"
    }
   ],
   "source": [
    "# Plotting the training and validation loss, accuracy\n",
    "loss = history.history['loss']\n",
    "acc = history.history['acc']\n",
    "\n",
    "epochs = range(1, len(loss) + 1)\n",
    "\n",
    "plt.figure(figsize=(20, 7))\n",
    "\n",
    "plt.subplot(121)\n",
    "plt.plot(epochs, loss, 'b', label='Training loss')\n",
    "plt.title('Training loss')\n",
    "plt.xlabel('Epochs')\n",
    "plt.ylabel('Loss')\n",
    "plt.legend()\n",
    "\n",
    "plt.subplot(122)\n",
    "plt.plot(epochs, acc, 'b', label='Training acc')\n",
    "plt.title('Training accuracy')\n",
    "plt.xlabel('Epochs')\n",
    "plt.ylabel('Accuracy')\n",
    "plt.legend()\n",
    "\n",
    "plt.show()"
   ]
  },
  {
   "cell_type": "code",
   "execution_count": 46,
   "metadata": {},
   "outputs": [],
   "source": [
    "final_model.save(os.path.join('data', 'final_model.h5'))"
   ]
  },
  {
   "cell_type": "code",
   "execution_count": 47,
   "metadata": {},
   "outputs": [],
   "source": []
  }
 ],
 "metadata": {
  "kernelspec": {
   "display_name": "Python 2",
   "language": "python",
   "name": "python2"
  },
  "language_info": {
   "codemirror_mode": {
    "name": "ipython",
    "version": 2
   },
   "file_extension": ".py",
   "mimetype": "text/x-python",
   "name": "python",
   "nbconvert_exporter": "python",
   "pygments_lexer": "ipython2",
   "version": "2.7.6"
  }
 },
 "nbformat": 4,
 "nbformat_minor": 0
}
